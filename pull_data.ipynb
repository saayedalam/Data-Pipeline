{
 "cells": [
  {
   "cell_type": "markdown",
   "metadata": {},
   "source": [
    "### pull_data.py (5 points) \n",
    "When this is called using python pull_data.py in the command line, this will go to the 2 Kaggle urls provided below, authenticate using your own Kaggle sign on, pull the two datasets, and save as .csv files in the current local directory. The authentication login details (aka secrets) need to be in a hidden folder (hint: use .gitignore). There must be a data check step to ensure the data has been pulled correctly and clear commenting and documentation for each step inside the .py file. Training dataset url: https://www.kaggle.com/c/titanic/download/train.csv Scoring dataset url: https://www.kaggle.com/c/titanic/download/test.csv"
   ]
  },
  {
   "cell_type": "code",
   "execution_count": 1,
   "metadata": {},
   "outputs": [],
   "source": [
    "# The following libraries will be used to pull data from Kaggle, save the files and run locally.\n",
    "import pandas as pd\n",
    "import zipfile\n",
    "import os\n",
    "from os import path"
   ]
  },
  {
   "cell_type": "code",
   "execution_count": 2,
   "metadata": {},
   "outputs": [],
   "source": [
    "# Kaggle API key was copied to the system enviroment.\n",
    "# Therefore, anyone running this code from their system will use their Kaggle APY key.\n",
    "os.environ.get('KAGGLE_USERNAME') \n",
    "os.environ.get('KAGGLE_KEY')\n",
    "\n",
    "# The following code downloads a zipfile of the dataset \n",
    "!kaggle competitions download -w -q titanic\n",
    "\n",
    "# Zipfile is extracted and the csv files are stored in the same folder.\n",
    "zf = zipfile.ZipFile('titanic.zip') \n",
    "zf.extractall()\n",
    "\n",
    "# test and train data are loaded\n",
    "test = pd.read_csv('test.csv')\n",
    "train = pd.read_csv('train.csv')"
   ]
  },
  {
   "cell_type": "code",
   "execution_count": 3,
   "metadata": {},
   "outputs": [
    {
     "name": "stdout",
     "output_type": "stream",
     "text": [
      "Data has been pulled correctly: True\n"
     ]
    }
   ],
   "source": [
    "# The following code checks to ensure the data has been pulled correctly.\n",
    "print(\"Data has been pulled correctly: \" + str(path.exists('titanic.zip')))"
   ]
  },
  {
   "cell_type": "code",
   "execution_count": 4,
   "metadata": {},
   "outputs": [],
   "source": [
    "# P.S. I tried to create a function to pull data. However because of the way Kaggle handles their API, I did not succeed."
   ]
  },
  {
   "cell_type": "code",
   "execution_count": 5,
   "metadata": {},
   "outputs": [
    {
     "data": {
      "text/plain": [
       "2"
      ]
     },
     "execution_count": 5,
     "metadata": {},
     "output_type": "execute_result"
    }
   ],
   "source": [
    "os.system('python train_model.py')\n",
    "os.system('python score_model.py')"
   ]
  }
 ],
 "metadata": {
  "kernelspec": {
   "display_name": "Python 3",
   "language": "python",
   "name": "python3"
  },
  "language_info": {
   "codemirror_mode": {
    "name": "ipython",
    "version": 3
   },
   "file_extension": ".py",
   "mimetype": "text/x-python",
   "name": "python",
   "nbconvert_exporter": "python",
   "pygments_lexer": "ipython3",
   "version": "3.6.3"
  }
 },
 "nbformat": 4,
 "nbformat_minor": 2
}
